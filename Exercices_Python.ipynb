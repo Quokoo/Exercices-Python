{
  "nbformat": 4,
  "nbformat_minor": 0,
  "metadata": {
    "colab": {
      "name": "Exercices Python.ipynb",
      "provenance": [],
      "collapsed_sections": []
    },
    "kernelspec": {
      "name": "python3",
      "display_name": "Python 3"
    }
  },
  "cells": [
    {
      "cell_type": "markdown",
      "metadata": {
        "id": "U6O_DnTRj5co",
        "colab_type": "text"
      },
      "source": [
        "Exercice 1.3"
      ]
    },
    {
      "cell_type": "code",
      "metadata": {
        "id": "tG49NZQPfmg6",
        "colab_type": "code",
        "colab": {
          "base_uri": "https://localhost:8080/",
          "height": 52
        },
        "outputId": "ef97a755-b449-4f29-bb00-ea6b93cc478f"
      },
      "source": [
        "nombreSTR=input()\n",
        "nombre = int(nombreSTR)\n",
        "type(nombre)\n",
        "if nombre > 0:\n",
        "  print(\"Ce chiffre est positif\")\n",
        "elif nombre < 0:\n",
        "  print(\"ce chiffre est négatif\")\n",
        "else:\n",
        "  print(\"Le 0 ne compte pas ici\")"
      ],
      "execution_count": 12,
      "outputs": [
        {
          "output_type": "stream",
          "text": [
            "5\n",
            "Ce chiffre est positif\n"
          ],
          "name": "stdout"
        }
      ]
    },
    {
      "cell_type": "markdown",
      "metadata": {
        "id": "h-opj_Z4j48I",
        "colab_type": "text"
      },
      "source": [
        "Exercice 1.4"
      ]
    },
    {
      "cell_type": "code",
      "metadata": {
        "id": "2X3pA9JXhmCc",
        "colab_type": "code",
        "colab": {
          "base_uri": "https://localhost:8080/",
          "height": 70
        },
        "outputId": "0750f92a-74b0-44eb-b6a8-dc7c4a54d493"
      },
      "source": [
        "nombreSTR1=input()\n",
        "nombreSTR2=input()\n",
        "nombre1 = int(nombreSTR1)\n",
        "nombre2 = int(nombreSTR2)\n",
        "if (nombre1 * nombre2 > 0):\n",
        "  print(\"Le produit de ces deux nombres est positif\")\n",
        "elif (nombre1 * nombre2 < 0):\n",
        "    print(\"Le produit de ces deux nombres est négatif\")\n",
        "else:\n",
        "  print(\"Ce résultat n'est pas pris en compte\")"
      ],
      "execution_count": 15,
      "outputs": [
        {
          "output_type": "stream",
          "text": [
            "5\n",
            "5\n",
            "Le produit de ces deux nombres est positif\n"
          ],
          "name": "stdout"
        }
      ]
    },
    {
      "cell_type": "markdown",
      "metadata": {
        "id": "z1sBYBlFk6VL",
        "colab_type": "text"
      },
      "source": [
        "Exercice 1.5"
      ]
    },
    {
      "cell_type": "code",
      "metadata": {
        "id": "y1Zz8PvpkHvG",
        "colab_type": "code",
        "colab": {
          "base_uri": "https://localhost:8080/",
          "height": 228
        },
        "outputId": "3b8fcfab-b7ac-4e3a-b045-30bd8bf31208"
      },
      "source": [
        "nombreSTR=input()\n",
        "nombre = int(nombreSTR)\n",
        "i = 0\n",
        "while i <= 10:\n",
        "  print(nombre)\n",
        "  nombre += 1\n",
        "  i += 1"
      ],
      "execution_count": 17,
      "outputs": [
        {
          "output_type": "stream",
          "text": [
            "5\n",
            "5\n",
            "6\n",
            "7\n",
            "8\n",
            "9\n",
            "10\n",
            "11\n",
            "12\n",
            "13\n",
            "14\n",
            "15\n"
          ],
          "name": "stdout"
        }
      ]
    },
    {
      "cell_type": "markdown",
      "metadata": {
        "id": "eQ-cgL-_lgIV",
        "colab_type": "text"
      },
      "source": [
        "Exercice 1.6"
      ]
    },
    {
      "cell_type": "code",
      "metadata": {
        "id": "wS5P5b1nlX5G",
        "colab_type": "code",
        "colab": {
          "base_uri": "https://localhost:8080/",
          "height": 52
        },
        "outputId": "f31ce16e-ce1f-45ec-857e-932bb791e399"
      },
      "source": [
        "nombreSTR = input()\n",
        "nombre = int(nombreSTR)\n",
        "i = 0\n",
        "resultat = 0\n",
        "while i<nombre:\n",
        "  i += 1\n",
        "  resultat += i\n",
        "print(resultat)"
      ],
      "execution_count": 25,
      "outputs": [
        {
          "output_type": "stream",
          "text": [
            "5\n",
            "15\n"
          ],
          "name": "stdout"
        }
      ]
    },
    {
      "cell_type": "code",
      "metadata": {
        "id": "FRvf-nPvmC6t",
        "colab_type": "code",
        "colab": {}
      },
      "source": [
        ""
      ],
      "execution_count": null,
      "outputs": []
    }
  ]
}